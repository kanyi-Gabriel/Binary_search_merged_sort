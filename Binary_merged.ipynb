{
 "cells": [
  {
   "cell_type": "code",
   "execution_count": 1,
   "id": "7b377c7e-9541-4e1d-a144-82ed6400adc0",
   "metadata": {},
   "outputs": [
    {
     "ename": "SyntaxError",
     "evalue": "invalid syntax (3842113732.py, line 22)",
     "output_type": "error",
     "traceback": [
      "\u001b[1;36m  Cell \u001b[1;32mIn[1], line 22\u001b[1;36m\u001b[0m\n\u001b[1;33m    if left[i] < = right[j]:\u001b[0m\n\u001b[1;37m                 ^\u001b[0m\n\u001b[1;31mSyntaxError\u001b[0m\u001b[1;31m:\u001b[0m invalid syntax\n"
     ]
    }
   ],
   "source": [
    "# Divide and couquer\n",
    "def merge_sort(arr):\n",
    "    \"\"\"\n",
    "    The array is divided into two parts: 'left' and 'right' part\n",
    "    Each of the two parts is recursively divided to the smallest unit\n",
    "    \"\"\"\n",
    "    # Midpoint of the data\n",
    "    mid = len(arr) // 2\n",
    "\n",
    "    # Divide left and right part\n",
    "    left = arr[:mid]\n",
    "    right = arr[mid:]\n",
    "\n",
    "    # recusively divide the two parts\n",
    "    merge_sort(left)\n",
    "    merge_sort(right)\n",
    "\n",
    "    i = j = k = 0\n",
    "\n",
    "    # Merge the arrays when they got elements\n",
    "    while i < len(left) and j < len(right):\n",
    "        if left[i] < = right[j]:\n",
    "            arr[k] = arr[i]\n",
    "             i+=1\n",
    "\n",
    "        else:\n",
    "            arr[k] = right[j]\n",
    "            j += 1\n",
    "\n",
    "        k += 1\n",
    "\n",
    "    # check for remaining element in the left array if any\n",
    "    while i < len(left):\n",
    "        arr[k] = i\n",
    "        i += 1\n",
    "        k+=1\n",
    "        \n",
    "    while j < len(right):\n",
    "        arr[k] = j\n",
    "        j += 1\n",
    "        k+=1\n",
    "    \n",
    "        \n",
    "        \n",
    "    "
   ]
  },
  {
   "cell_type": "code",
   "execution_count": null,
   "id": "a59bb3ed-e1f3-4f36-88b7-8d2afe2e6e9d",
   "metadata": {},
   "outputs": [],
   "source": []
  },
  {
   "cell_type": "code",
   "execution_count": null,
   "id": "a9ca8858-4170-42c4-a93f-8172a80be36c",
   "metadata": {},
   "outputs": [],
   "source": []
  }
 ],
 "metadata": {
  "kernelspec": {
   "display_name": "Python 3 (ipykernel)",
   "language": "python",
   "name": "python3"
  },
  "language_info": {
   "codemirror_mode": {
    "name": "ipython",
    "version": 3
   },
   "file_extension": ".py",
   "mimetype": "text/x-python",
   "name": "python",
   "nbconvert_exporter": "python",
   "pygments_lexer": "ipython3",
   "version": "3.9.23"
  }
 },
 "nbformat": 4,
 "nbformat_minor": 5
}
